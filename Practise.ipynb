{
  "nbformat": 4,
  "nbformat_minor": 0,
  "metadata": {
    "colab": {
      "name": "Practise.ipynb",
      "provenance": [],
      "collapsed_sections": [],
      "include_colab_link": true
    },
    "kernelspec": {
      "name": "python3",
      "display_name": "Python 3"
    }
  },
  "cells": [
    {
      "cell_type": "markdown",
      "metadata": {
        "id": "view-in-github",
        "colab_type": "text"
      },
      "source": [
        "<a href=\"https://colab.research.google.com/github/MalikAwaisMuhammad/FirstProgram/blob/master/Practise.ipynb\" target=\"_parent\"><img src=\"https://colab.research.google.com/assets/colab-badge.svg\" alt=\"Open In Colab\"/></a>"
      ]
    },
    {
      "cell_type": "code",
      "metadata": {
        "id": "a5aUTObBWbbP",
        "colab_type": "code",
        "outputId": "754ec4a3-0352-4549-bf01-f7bea074ed12",
        "colab": {
          "base_uri": "https://localhost:8080/",
          "height": 170
        }
      },
      "source": [
        "def sayhi():\n",
        "    print (\"Hello User\")\n",
        "sayhi()\n",
        "\n",
        "def say_hello(name):\n",
        "    print (\"Hello \" + name)\n",
        "say_hello(\"Awais\")\n",
        "\n",
        "def hip(name, age):\n",
        "    print (\"Hello \" + name + \", You are \" + age)\n",
        "hip(\"Malik\", \"23\")\n",
        "hip(\"Ali\", \"21\")\n",
        "\n",
        "def hi(name, age):\n",
        "    print (\"Hello \" + name + \", You are \" + str(age))\n",
        "hi(\"Malik\", 23)\n",
        "hi(\"Ali\", 21)\n",
        "\n",
        "\n",
        "# Return\n",
        "\n",
        "def cube(num):\n",
        "    num * num * num\n",
        "cube(3)\n",
        "print (\"Khan\")\n",
        "print (cube(5))\n",
        "\n",
        "def cube(num):\n",
        "    return num * num * num\n",
        "cube(3)"
      ],
      "execution_count": 0,
      "outputs": [
        {
          "output_type": "stream",
          "text": [
            "Hello User\n",
            "Hello Awais\n",
            "Hello Malik, You are 23\n",
            "Hello Ali, You are 21\n",
            "Hello Malik, You are 23\n",
            "Hello Ali, You are 21\n",
            "Khan\n",
            "None\n"
          ],
          "name": "stdout"
        },
        {
          "output_type": "execute_result",
          "data": {
            "text/plain": [
              "27"
            ]
          },
          "metadata": {
            "tags": []
          },
          "execution_count": 1
        }
      ]
    },
    {
      "cell_type": "code",
      "metadata": {
        "id": "NP5Lj-biW0fg",
        "colab_type": "code",
        "colab": {}
      },
      "source": [
        "num1 = input(\"Enter a number: \")\n",
        "num2 = input(\"Enter another number: \")\n",
        "result = float(num1) + float(num2)\n",
        "print(result)"
      ],
      "execution_count": 0,
      "outputs": []
    },
    {
      "cell_type": "code",
      "metadata": {
        "id": "feYM-Sf4XFBG",
        "colab_type": "code",
        "colab": {}
      },
      "source": [
        "Name       = \"Engr Muhammad Owais\"\n",
        "Father     = \"Muhammad Hussain\"\n",
        "University = \"Bahria University\"\n",
        "\n",
        "message = \"\"\"\n",
        "            PIAIC ISLAMABAD BATCH 3\n",
        "            Name: {}\n",
        "            Father: {}\n",
        "            University: {}\n",
        "            \"\"\".format(Name, Father, University)\n",
        "\n",
        "print (message)\n",
        "\n",
        "Name       = \"Bilal Saeed\"\n",
        "Father     = \"Abdur Rafae\"\n",
        "University = \"Bahria University\"\n",
        "\n",
        "message = \"\"\"\n",
        "            PIAIC ISLAMABAD BATCH 3\n",
        "            Name: {}\n",
        "            Father: {}\n",
        "            University: {}\n",
        "            \"\"\".format(Name, Father, University)\n",
        "\n",
        "print (message)"
      ],
      "execution_count": 0,
      "outputs": []
    },
    {
      "cell_type": "code",
      "metadata": {
        "id": "WN4q2ZiDXHr4",
        "colab_type": "code",
        "colab": {}
      },
      "source": [
        "if 2 > 1:\n",
        "    print(\"The statement is true\")\n",
        "else:\n",
        "    print(\"The statement is false\")"
      ],
      "execution_count": 0,
      "outputs": []
    },
    {
      "cell_type": "code",
      "metadata": {
        "id": "QM24dUmbXLKK",
        "colab_type": "code",
        "colab": {}
      },
      "source": [
        "a = input(\"What is your Name: \")\n",
        "\n",
        "print(a)\n",
        "\n",
        "print(\"Your name is awais\")"
      ],
      "execution_count": 0,
      "outputs": []
    },
    {
      "cell_type": "code",
      "metadata": {
        "id": "dwt1ytqvXNiA",
        "colab_type": "code",
        "colab": {}
      },
      "source": [
        "num = 1\n",
        "\n",
        "while num <= 10:\n",
        "    print(num)\n",
        "    num += 1"
      ],
      "execution_count": 0,
      "outputs": []
    },
    {
      "cell_type": "code",
      "metadata": {
        "id": "UyC3uI_yXPp_",
        "colab_type": "code",
        "colab": {}
      },
      "source": [
        "d = 1\n",
        "\n",
        "while d <= 2:\n",
        "    print(\"alif: %s \" + %(d) )\n",
        "    d +=1"
      ],
      "execution_count": 0,
      "outputs": []
    },
    {
      "cell_type": "code",
      "metadata": {
        "id": "3qibXYMyXTLN",
        "colab_type": "code",
        "colab": {}
      },
      "source": [
        "print(\"My name is: %s\")"
      ],
      "execution_count": 0,
      "outputs": []
    },
    {
      "cell_type": "code",
      "metadata": {
        "id": "deRT5gmqXVVg",
        "colab_type": "code",
        "colab": {}
      },
      "source": [
        "a = \"Owais\"\n",
        "print (\"My Name is: \" + a)"
      ],
      "execution_count": 0,
      "outputs": []
    },
    {
      "cell_type": "code",
      "metadata": {
        "id": "-y9qXlQxXXXp",
        "colab_type": "code",
        "colab": {}
      },
      "source": [
        "for i in range (1, 10):\n",
        "    print (i)"
      ],
      "execution_count": 0,
      "outputs": []
    },
    {
      "cell_type": "code",
      "metadata": {
        "id": "_doKZfSuXZ6y",
        "colab_type": "code",
        "colab": {}
      },
      "source": [
        "# small parenthesis like below are tuples => these are immutable (can't be changed)\n",
        "ar = (\"Engineer\", \"Hafiz\", \"Malik\", \"Muhammad\", \"Awais\", \"Awan\")\n",
        "\n",
        "print(ar[1:4])\n",
        "\n",
        "Coordinates = (3,5)\n",
        "as = [(3, 6), (8, 2), (3, 5)]       # Tuples in Lists\n",
        "\n",
        "# We usually use lists"
      ],
      "execution_count": 0,
      "outputs": []
    },
    {
      "cell_type": "code",
      "metadata": {
        "id": "yBRm4bMcXcFT",
        "colab_type": "code",
        "colab": {}
      },
      "source": [
        "name = \"Muhammad Awais\"\n",
        "print (name.upper())\n",
        "print (name.lower())\n",
        "print (name.isupper())\n",
        "print (name.capitalize())\n",
        "print (name.upper().isupper())\n",
        "print (len(name))\n",
        "print (name[0:2])\n",
        "print (name.index(\"m\"))\n",
        "print (name.replace(\"uhammad\", \"usa\"))"
      ],
      "execution_count": 0,
      "outputs": []
    },
    {
      "cell_type": "code",
      "metadata": {
        "id": "aldIckZWXfJD",
        "colab_type": "code",
        "colab": {}
      },
      "source": [
        "print ( (10 % 4) /2)\n",
        "print ( 4 * 3 + 2)\n",
        "print ( 4 * (3 + 2))"
      ],
      "execution_count": 0,
      "outputs": []
    },
    {
      "cell_type": "code",
      "metadata": {
        "id": "kC7LD05qXhaV",
        "colab_type": "code",
        "colab": {}
      },
      "source": [
        "num = 4\n",
        "print (str(num) + \" is my favorite Number\")\n",
        "\n",
        "n = 5\n",
        "m = -3.4\n",
        "print (n + m)\n",
        "print (abs(m))\n",
        "print (pow(3,2))\n",
        "print (max (5, 4))\n",
        "print (min (9, 23))\n",
        "print (round(3.23928))\n",
        "print (round(m))\n",
        "print (round (3.8))\n",
        "\n",
        "from math import *\n",
        "\n",
        "print (floor (3.8))\n",
        "print (ceil (3.8))\n",
        "print (sqrt(4))"
      ],
      "execution_count": 0,
      "outputs": []
    },
    {
      "cell_type": "code",
      "metadata": {
        "id": "kqw-WN_MXkDF",
        "colab_type": "code",
        "colab": {}
      },
      "source": [
        "br = [34, 874, 28, 485]\n",
        "print (br[0])\n",
        "print (br[1])\n",
        "print (br)"
      ],
      "execution_count": 0,
      "outputs": []
    },
    {
      "cell_type": "code",
      "metadata": {
        "id": "eBZPqLWRXm5-",
        "colab_type": "code",
        "colab": {}
      },
      "source": [
        "# square parenthesis like below are lists => these are mutable (can be changed)\n",
        "ar = [\"Engineer\", \"Hafiz\", \"Malik\", \"Muhammad\", \"Awais\", \"Awan\"]\n",
        "\n",
        "print(ar[1:4])\n",
        "print(ar[1])\n",
        "print(ar[-1])\n",
        "print(ar[4])\n",
        "ar[4] = \"Doctor\"\n",
        "print(ar[4])"
      ],
      "execution_count": 0,
      "outputs": []
    },
    {
      "cell_type": "code",
      "metadata": {
        "id": "vaZhz2w-XrK7",
        "colab_type": "code",
        "colab": {}
      },
      "source": [
        "# List Functions\n",
        "\n",
        "Candidates = [\"Awais\", \"Zeba\", \"Usman\", \"Aftab\", \"Ghaffar\", \"Chinioty\"]\n",
        "Lucky_Nos  = [3, 4, 9, 2, 1, 5]\n",
        "\n",
        "Candidates.extend(Lucky_Nos)\n",
        "print(Candidates)\n",
        "\n",
        "Candidates = [\"Awais\", \"Zeba\", \"Usman\", \"Aftab\", \"Ghaffar\", \"Chinioty\"]\n",
        "Candidates.append(\"Naseer\")\n",
        "print(Candidates)\n",
        "\n",
        "Candidates.insert(1, \"Saba\")\n",
        "print(Candidates)\n",
        "\n",
        "Candidates.remove(\"Usman\")\n",
        "print(Candidates)\n",
        "\n",
        "Candidates.clear()\n",
        "print(Candidates)\n",
        "\n",
        "Candidates = [\"Awais\", \"Zeba\", \"Usman\", \"Aftab\", \"Ghaffar\", \"Chinioty\"]\n",
        "print(Candidates)\n",
        "Candidates.pop()\n",
        "print(Candidates)\n",
        "\n",
        "\n",
        "print(Candidates.index(\"Aftab\"))\n",
        "print(Candidates[2])\n",
        "\n",
        "Candidates = [\"Awais\", \"Zeba\", \"Usman\", \"Zeba\", \"Zeba\", \"Aftab\", \"Ghaffar\", \"Chinioty\", \"Usman\"]\n",
        "print(Candidates.count(\"Zeba\"))\n",
        "print(Candidates.count(\"Usman\"))\n",
        "\n",
        "Candidates.sort()\n",
        "print(Candidates)\n",
        "\n",
        "Lucky_Nos.sort()\n",
        "print(Lucky_Nos)\n",
        "\n",
        "Lucky_Nos.reverse()\n",
        "print(Lucky_Nos)\n",
        "\n",
        "Friends = Candidates.copy()\n",
        "print(Friends)"
      ],
      "execution_count": 0,
      "outputs": []
    },
    {
      "cell_type": "code",
      "metadata": {
        "id": "2yGvxVztXsgK",
        "colab_type": "code",
        "colab": {}
      },
      "source": [
        "def max_no (x, y, z):\n",
        "    if x >= y and x >= z:\n",
        "        return x\n",
        "    elif y >= x and y >= z:\n",
        "        return y\n",
        "    else:\n",
        "        return z\n",
        "\n",
        "print (max_no (4,2,5))"
      ],
      "execution_count": 0,
      "outputs": []
    },
    {
      "cell_type": "code",
      "metadata": {
        "id": "YT-3sw0MXvZ3",
        "colab_type": "code",
        "outputId": "800c86cf-0932-4e1d-e81e-8253e815c1f2",
        "colab": {
          "base_uri": "https://localhost:8080/",
          "height": 85
        }
      },
      "source": [
        "num1 = float(input(\"Enter first number: \"))\n",
        "op   = input(\"Enter the Operator: \")\n",
        "num2 = float(input(\"Enter second number: \"))\n",
        "\n",
        "if op == \"+\":\n",
        "    print (num1 + num2)\n",
        "elif op == \"-\":\n",
        "    print(num1 - num2) \n",
        "elif op == \"*\":\n",
        "    print (num1 * num2)\n",
        "elif op == \"/\":\n",
        "    print (num1 / num2)\n",
        "else:\n",
        "    print (\"Invalid Operator\")"
      ],
      "execution_count": 0,
      "outputs": [
        {
          "output_type": "stream",
          "text": [
            "Enter first number: 45\n",
            "Enter the Operator: /\n",
            "Enter second number: 5\n",
            "9.0\n"
          ],
          "name": "stdout"
        }
      ]
    },
    {
      "cell_type": "code",
      "metadata": {
        "id": "SC_YWlVwcAHn",
        "colab_type": "code",
        "outputId": "23306a1d-5103-43ee-a733-745f57a62c7a",
        "colab": {
          "base_uri": "https://localhost:8080/",
          "height": 85
        }
      },
      "source": [
        "MonthConversion = {\n",
        "    \n",
        "    \"Jan\" : \"January\",\n",
        "    \"Feb\" : \"Febraury\",\n",
        "    \"Mar\" : \"March\",\n",
        "    \"Apr\" : \"April\",\n",
        "    \"May\" : \"May\",\n",
        "    \"Jun\" : \"June\",\n",
        "    \"Jul\" : \"July\",\n",
        "    \"Aug\" : \"August\",\n",
        "    \"Sep\" : \"September\",\n",
        "    \"Oct\" : \"October\",\n",
        "    \"Nov\" : \"November\",\n",
        "    \"Dec\" : \"December\"\n",
        "}\n",
        "\n",
        "print (MonthConversion [\"Sep\"])\n",
        "print (MonthConversion.get(\"Dec\"))\n",
        "print (MonthConversion.get(\"Apr\", \"Not a valid key\"))\n",
        "print (MonthConversion.get(\"Luc\", \"Not a valid key\"))"
      ],
      "execution_count": 0,
      "outputs": [
        {
          "output_type": "stream",
          "text": [
            "September\n",
            "December\n",
            "April\n",
            "Not a valid key\n"
          ],
          "name": "stdout"
        }
      ]
    },
    {
      "cell_type": "code",
      "metadata": {
        "id": "muJiYEdBhN0u",
        "colab_type": "code",
        "outputId": "bf606439-3235-4215-c0fd-5a50c40efb23",
        "colab": {
          "base_uri": "https://localhost:8080/",
          "height": 102
        }
      },
      "source": [
        "secret_word = \"Awais\"\n",
        "guess = \"\"\n",
        "\n",
        "while guess != secret_word:\n",
        "    guess = input(\"Enter the word: \")\n",
        "\n",
        "print (\"You Win\")"
      ],
      "execution_count": 0,
      "outputs": [
        {
          "output_type": "stream",
          "text": [
            "Enter the word: pakitan\n",
            "Enter the word: Malikd\n",
            "Enter the word: awais\n",
            "Enter the word: Awais\n",
            "You Win\n"
          ],
          "name": "stdout"
        }
      ]
    },
    {
      "cell_type": "code",
      "metadata": {
        "id": "1a5DY-KSkJmf",
        "colab_type": "code",
        "outputId": "c4b92a06-8743-4983-a5bd-f5075235cd38",
        "colab": {
          "base_uri": "https://localhost:8080/",
          "height": 68
        }
      },
      "source": [
        "secret_word = \"Awais\"\n",
        "guess = \"\"\n",
        "guess_count = 0\n",
        "guess_limit = 3\n",
        "out_of_guesses = False\n",
        "\n",
        "while guess != secret_word and not(out_of_guesses):\n",
        "    if guess_count < guess_limit:\n",
        "        guess = input (\"Enter the Seret Word: \")\n",
        "        guess_count += 1\n",
        "    else:\n",
        "        out_of_guesses = True\n",
        "        \n",
        "if out_of_guesses:\n",
        "    print(\"Out of Guesses: You Lose\")\n",
        "else:\n",
        "    print(\"You Win\")"
      ],
      "execution_count": 0,
      "outputs": [
        {
          "output_type": "stream",
          "text": [
            "Enter the Seret Word: jsdlfkja\n",
            "Enter the Seret Word: Awais\n",
            "You Win\n"
          ],
          "name": "stdout"
        }
      ]
    }
  ]
}