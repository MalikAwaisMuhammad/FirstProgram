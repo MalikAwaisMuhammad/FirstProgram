{
  "nbformat": 4,
  "nbformat_minor": 0,
  "metadata": {
    "colab": {
      "name": "FiveFunctions.ipynb",
      "provenance": [],
      "collapsed_sections": [],
      "include_colab_link": true
    },
    "kernelspec": {
      "name": "python3",
      "display_name": "Python 3"
    }
  },
  "cells": [
    {
      "cell_type": "markdown",
      "metadata": {
        "id": "view-in-github",
        "colab_type": "text"
      },
      "source": [
        "<a href=\"https://colab.research.google.com/github/MalikAwaisMuhammad/FirstProgram/blob/master/FiveFunctions.ipynb\" target=\"_parent\"><img src=\"https://colab.research.google.com/assets/colab-badge.svg\" alt=\"Open In Colab\"/></a>"
      ]
    },
    {
      "cell_type": "markdown",
      "metadata": {
        "id": "OIt7lqn2kwVB",
        "colab_type": "text"
      },
      "source": [
        ""
      ]
    },
    {
      "cell_type": "markdown",
      "metadata": {
        "id": "PkrQJ9TCkzVt",
        "colab_type": "text"
      },
      "source": [
        "Assignment # 01 Buit-in Function bold text"
      ]
    },
    {
      "cell_type": "markdown",
      "metadata": {
        "id": "cS2f4c_zk7BT",
        "colab_type": "text"
      },
      "source": [
        "**int()**\n",
        "\n",
        "Returns an integer number"
      ]
    },
    {
      "cell_type": "code",
      "metadata": {
        "id": "gmlr_V-JlGLX",
        "colab_type": "code",
        "outputId": "5db93af9-670e-44bf-fa89-8367b8ca9a3b",
        "colab": {
          "base_uri": "https://localhost:8080/",
          "height": 34
        }
      },
      "source": [
        "print(int(5.73))"
      ],
      "execution_count": 8,
      "outputs": [
        {
          "output_type": "stream",
          "text": [
            "5\n"
          ],
          "name": "stdout"
        }
      ]
    },
    {
      "cell_type": "markdown",
      "metadata": {
        "id": "AiOhohu9lWmX",
        "colab_type": "text"
      },
      "source": [
        "**bin()**\n",
        "\n",
        "Convert an integer number to a binary string prefixed with “0b”. The result is a valid Python expression."
      ]
    },
    {
      "cell_type": "code",
      "metadata": {
        "id": "MrK3X1bJlfax",
        "colab_type": "code",
        "outputId": "9be40c94-1645-47c1-a33e-90615df8c45a",
        "colab": {
          "base_uri": "https://localhost:8080/",
          "height": 34
        }
      },
      "source": [
        "w=bin(8)\n",
        "print(w)"
      ],
      "execution_count": 7,
      "outputs": [
        {
          "output_type": "stream",
          "text": [
            "0b1000\n"
          ],
          "name": "stdout"
        }
      ]
    },
    {
      "cell_type": "markdown",
      "metadata": {
        "id": "EEEXwSh5mDPh",
        "colab_type": "text"
      },
      "source": [
        "**abs()**\n",
        "\n",
        "Return the absolute value of a number. The argument may be an integer or a floating point number. If the argument is a complex number, its magnitude is returned."
      ]
    },
    {
      "cell_type": "code",
      "metadata": {
        "id": "UawcenYrmKNH",
        "colab_type": "code",
        "outputId": "048a9b68-9648-4e14-8638-f81739f24842",
        "colab": {
          "base_uri": "https://localhost:8080/",
          "height": 34
        }
      },
      "source": [
        "x=-6\n",
        "print(abs(x))"
      ],
      "execution_count": 6,
      "outputs": [
        {
          "output_type": "stream",
          "text": [
            "6\n"
          ],
          "name": "stdout"
        }
      ]
    },
    {
      "cell_type": "markdown",
      "metadata": {
        "id": "k_N69xfY9gzg",
        "colab_type": "text"
      },
      "source": [
        "**all**()\n",
        "\n",
        "Return True if all elements of the iterable are true (or if the iterable is empty).\n"
      ]
    },
    {
      "cell_type": "code",
      "metadata": {
        "id": "UuVb2ANv-BlT",
        "colab_type": "code",
        "outputId": "1a8f1ef7-aeb2-4419-d74f-a54ffa6d7a7d",
        "colab": {
          "base_uri": "https://localhost:8080/",
          "height": 34
        }
      },
      "source": [
        "y=[3, 4, 5]\n",
        "print(all(y))"
      ],
      "execution_count": 5,
      "outputs": [
        {
          "output_type": "stream",
          "text": [
            "True\n"
          ],
          "name": "stdout"
        }
      ]
    },
    {
      "cell_type": "code",
      "metadata": {
        "id": "2fI6_Rye-S4k",
        "colab_type": "code",
        "outputId": "3dfd0af9-aa4a-412e-d44c-4498e8d5615a",
        "colab": {
          "base_uri": "https://localhost:8080/",
          "height": 34
        }
      },
      "source": [
        "z=[2, 0, 1]\n",
        "print(all(z))"
      ],
      "execution_count": 4,
      "outputs": [
        {
          "output_type": "stream",
          "text": [
            "False\n"
          ],
          "name": "stdout"
        }
      ]
    },
    {
      "cell_type": "markdown",
      "metadata": {
        "id": "aYsquyDy-w9z",
        "colab_type": "text"
      },
      "source": [
        "**any**(iterable)\n",
        "\n",
        "Return True if any element of the iterable is true. If the iterable is empty, return False"
      ]
    },
    {
      "cell_type": "code",
      "metadata": {
        "id": "3HJf0gEK-6he",
        "colab_type": "code",
        "outputId": "0a38203f-f02f-4675-8b14-84a9bc46d712",
        "colab": {
          "base_uri": "https://localhost:8080/",
          "height": 34
        }
      },
      "source": [
        "m=[1, 2, 3]\n",
        "print(any(m))"
      ],
      "execution_count": 3,
      "outputs": [
        {
          "output_type": "stream",
          "text": [
            "True\n"
          ],
          "name": "stdout"
        }
      ]
    },
    {
      "cell_type": "markdown",
      "metadata": {
        "id": "lbq9LdDsG0Ss",
        "colab_type": "text"
      },
      "source": [
        "**ascii()**\n",
        "\n",
        "Returns a readable version of an object. Replaces none-ascii characters with escape character"
      ]
    },
    {
      "cell_type": "code",
      "metadata": {
        "id": "7ov_E5vNHCMX",
        "colab_type": "code",
        "outputId": "22e29e41-fd60-40e4-9177-f9481151da29",
        "colab": {
          "base_uri": "https://localhost:8080/",
          "height": 34
        }
      },
      "source": [
        "n = ascii(\"My name is Muhammad\")\n",
        "print(n)"
      ],
      "execution_count": 2,
      "outputs": [
        {
          "output_type": "stream",
          "text": [
            "'My name is Muhammad'\n"
          ],
          "name": "stdout"
        }
      ]
    },
    {
      "cell_type": "code",
      "metadata": {
        "id": "uuPo8cJLJMdG",
        "colab_type": "code",
        "outputId": "f007af5b-e672-438b-ec92-788a18182f5d",
        "colab": {
          "base_uri": "https://localhost:8080/",
          "height": 34
        }
      },
      "source": [
        "o=ascii(7)\n",
        "print(o)"
      ],
      "execution_count": 1,
      "outputs": [
        {
          "output_type": "stream",
          "text": [
            "7\n"
          ],
          "name": "stdout"
        }
      ]
    }
  ]
}